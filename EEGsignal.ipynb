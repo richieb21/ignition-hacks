{
  "nbformat": 4,
  "nbformat_minor": 0,
  "metadata": {
    "colab": {
      "name": "EEGsignal",
      "provenance": [],
      "authorship_tag": "ABX9TyMIdn5CVYq2CNc+4hlbasTV",
      "include_colab_link": true
    },
    "kernelspec": {
      "name": "python3",
      "display_name": "Python 3"
    },
    "language_info": {
      "name": "python"
    }
  },
  "cells": [
    {
      "cell_type": "markdown",
      "metadata": {
        "id": "view-in-github",
        "colab_type": "text"
      },
      "source": [
        "<a href=\"https://colab.research.google.com/github/richieb21/ignition-hacks/blob/main/EEGsignal.ipynb\" target=\"_parent\"><img src=\"https://colab.research.google.com/assets/colab-badge.svg\" alt=\"Open In Colab\"/></a>"
      ]
    },
    {
      "cell_type": "code",
      "execution_count": 4,
      "metadata": {
        "id": "MTKBHFQU1OR6",
        "colab": {
          "base_uri": "https://localhost:8080/"
        },
        "outputId": "8417bd72-9ae5-4eb9-bf46-aa05d803d910"
      },
      "outputs": [
        {
          "output_type": "stream",
          "name": "stdout",
          "text": [
            "Looking in indexes: https://pypi.org/simple, https://us-python.pkg.dev/colab-wheels/public/simple/\n",
            "Requirement already satisfied: kaggle in /usr/local/lib/python3.7/dist-packages (1.5.12)\n",
            "Requirement already satisfied: python-slugify in /usr/local/lib/python3.7/dist-packages (from kaggle) (6.1.2)\n",
            "Requirement already satisfied: python-dateutil in /usr/local/lib/python3.7/dist-packages (from kaggle) (2.8.2)\n",
            "Requirement already satisfied: six>=1.10 in /usr/local/lib/python3.7/dist-packages (from kaggle) (1.15.0)\n",
            "Requirement already satisfied: urllib3 in /usr/local/lib/python3.7/dist-packages (from kaggle) (1.24.3)\n",
            "Requirement already satisfied: requests in /usr/local/lib/python3.7/dist-packages (from kaggle) (2.23.0)\n",
            "Requirement already satisfied: tqdm in /usr/local/lib/python3.7/dist-packages (from kaggle) (4.64.0)\n",
            "Requirement already satisfied: certifi in /usr/local/lib/python3.7/dist-packages (from kaggle) (2022.6.15)\n",
            "Requirement already satisfied: text-unidecode>=1.3 in /usr/local/lib/python3.7/dist-packages (from python-slugify->kaggle) (1.3)\n",
            "Requirement already satisfied: idna<3,>=2.5 in /usr/local/lib/python3.7/dist-packages (from requests->kaggle) (2.10)\n",
            "Requirement already satisfied: chardet<4,>=3.0.2 in /usr/local/lib/python3.7/dist-packages (from requests->kaggle) (3.0.4)\n",
            "mkdir: cannot create directory ‘/root/.kaggle’: File exists\n"
          ]
        }
      ],
      "source": [
        "! pip install kaggle\n",
        "! mkdir ~/.kaggle\n",
        "! cp kaggle.json ~/.kaggle/\n",
        "! chmod 600 ~/.kaggle/kaggle.json"
      ]
    },
    {
      "cell_type": "code",
      "source": [
        "! kaggle datasets download metacosmos/eeg-dataset-recorded-in-a-car-simulator"
      ],
      "metadata": {
        "colab": {
          "base_uri": "https://localhost:8080/"
        },
        "id": "sLNJOZsk2L49",
        "outputId": "a27a25d5-33f3-4144-e8c5-792f63cebc69"
      },
      "execution_count": 9,
      "outputs": [
        {
          "output_type": "stream",
          "name": "stdout",
          "text": [
            "Downloading eeg-dataset-recorded-in-a-car-simulator.zip to /content\n",
            " 59% 9.00M/15.4M [00:00<00:00, 68.8MB/s]\n",
            "100% 15.4M/15.4M [00:00<00:00, 101MB/s] \n"
          ]
        }
      ]
    },
    {
      "cell_type": "code",
      "source": [
        "! unzip eeg-dataset-recorded-in-a-car-simulator.zip"
      ],
      "metadata": {
        "colab": {
          "base_uri": "https://localhost:8080/"
        },
        "id": "8J3AV1ua3O9j",
        "outputId": "86638f80-fc86-40a3-fb32-83f1d23fa9df"
      },
      "execution_count": 10,
      "outputs": [
        {
          "output_type": "stream",
          "name": "stdout",
          "text": [
            "Archive:  eeg-dataset-recorded-in-a-car-simulator.zip\n",
            "  inflating: X_item_1.csv            \n",
            "  inflating: X_item_10.csv           \n",
            "  inflating: X_item_11.csv           \n",
            "  inflating: X_item_12.csv           \n",
            "  inflating: X_item_13.csv           \n",
            "  inflating: X_item_14.csv           \n",
            "  inflating: X_item_15.csv           \n",
            "  inflating: X_item_16.csv           \n",
            "  inflating: X_item_17.csv           \n",
            "  inflating: X_item_18.csv           \n",
            "  inflating: X_item_19.csv           \n",
            "  inflating: X_item_2.csv            \n",
            "  inflating: X_item_20.csv           \n",
            "  inflating: X_item_21.csv           \n",
            "  inflating: X_item_22.csv           \n",
            "  inflating: X_item_23.csv           \n",
            "  inflating: X_item_24.csv           \n",
            "  inflating: X_item_25.csv           \n",
            "  inflating: X_item_3.csv            \n",
            "  inflating: X_item_4.csv            \n",
            "  inflating: X_item_5.csv            \n",
            "  inflating: X_item_6.csv            \n",
            "  inflating: X_item_7.csv            \n",
            "  inflating: X_item_8.csv            \n",
            "  inflating: X_item_9.csv            \n"
          ]
        }
      ]
    }
  ]
}